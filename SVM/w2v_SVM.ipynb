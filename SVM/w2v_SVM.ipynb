{
 "cells": [
  {
   "cell_type": "markdown",
   "metadata": {},
   "source": [
    "https://www.kaggle.com/c/word2vec-nlp-tutorial#part-2-word-vectors"
   ]
  },
  {
   "cell_type": "code",
   "execution_count": 23,
   "metadata": {},
   "outputs": [],
   "source": [
    "# Import the pandas package, then use the \"read_csv\" function to read\n",
    "# the labeled training data\n",
    "import pandas as pd       \n",
    "import re\n",
    "from bs4 import BeautifulSoup\n",
    "\n"
   ]
  },
  {
   "cell_type": "code",
   "execution_count": 37,
   "metadata": {},
   "outputs": [],
   "source": [
    "train = pd.read_csv(\"../data/labeledTrainData.tsv\", header=0, delimiter=\"\\t\", quoting=3, encoding='utf8')\n",
    "test = pd.read_csv(\"../data/testData.tsv\", header=0, delimiter=\"\\t\", quoting=3, encoding='utf8')"
   ]
  },
  {
   "cell_type": "code",
   "execution_count": 24,
   "metadata": {},
   "outputs": [],
   "source": [
    "import nltk\n",
    "#nltk.download()  # Download text data sets, including stop words\n",
    "from nltk.corpus import stopwords # Import the stop word list\n",
    "#print stopwords.words(\"english\") "
   ]
  },
  {
   "cell_type": "code",
   "execution_count": 25,
   "metadata": {},
   "outputs": [
    {
     "data": {
      "text/plain": [
       "(25000, 3)"
      ]
     },
     "execution_count": 25,
     "metadata": {},
     "output_type": "execute_result"
    }
   ],
   "source": [
    "train.shape"
   ]
  },
  {
   "cell_type": "code",
   "execution_count": 26,
   "metadata": {},
   "outputs": [
    {
     "data": {
      "text/plain": [
       "array([u'id', u'sentiment', u'review'], dtype=object)"
      ]
     },
     "execution_count": 26,
     "metadata": {},
     "output_type": "execute_result"
    }
   ],
   "source": [
    "train.columns.values"
   ]
  },
  {
   "cell_type": "code",
   "execution_count": 27,
   "metadata": {},
   "outputs": [],
   "source": [
    "def review_to_wordlist( review, remove_stopwords=False ):\n",
    "    # Function to convert a document to a sequence of words,\n",
    "    # optionally removing stop words.  Returns a list of words.\n",
    "    #\n",
    "    # 1. Remove HTML\n",
    "    review_text = BeautifulSoup(review).get_text()\n",
    "    #  \n",
    "    # 2. Remove non-letters\n",
    "    review_text = re.sub(\"[^a-zA-Z]\",\" \", review_text)\n",
    "    #\n",
    "    # 3. Convert words to lower case and split them\n",
    "    words = review_text.lower().split()\n",
    "    #\n",
    "    # 4. Optionally remove stop words (false by default)\n",
    "    if remove_stopwords:\n",
    "        stops = set(stopwords.words(\"english\"))\n",
    "        words = [w for w in words if not w in stops]\n",
    "    #\n",
    "    # 5. Return a list of words\n",
    "    return(words) "
   ]
  },
  {
   "cell_type": "code",
   "execution_count": 28,
   "metadata": {},
   "outputs": [],
   "source": [
    "# Load the punkt tokenizer\n",
    "tokenizer = nltk.data.load('tokenizers/punkt/english.pickle')\n",
    "\n",
    "# Define a function to split a review into parsed sentences\n",
    "def review_to_sentences( review, tokenizer, remove_stopwords=False ):\n",
    "    # Function to split a review into parsed sentences. Returns a \n",
    "    # list of sentences, where each sentence is a list of words\n",
    "    #\n",
    "    # 1. Use the NLTK tokenizer to split the paragraph into sentences\n",
    "    raw_sentences = tokenizer.tokenize(review.strip())\n",
    "    #\n",
    "    # 2. Loop over each sentence\n",
    "    sentences = []\n",
    "    for raw_sentence in raw_sentences:\n",
    "        # If a sentence is empty, skip it\n",
    "        if len(raw_sentence) > 0:\n",
    "            # Otherwise, call review_to_wordlist to get a list of words\n",
    "            sentences.append( review_to_wordlist( raw_sentence, remove_stopwords ))\n",
    "    #\n",
    "    # Return the list of sentences (each sentence is a list of words,\n",
    "    # so this returns a list of lists\n",
    "    return sentences"
   ]
  },
  {
   "cell_type": "code",
   "execution_count": 29,
   "metadata": {},
   "outputs": [
    {
     "name": "stdout",
     "output_type": "stream",
     "text": [
      "Parsing sentences from training set\n"
     ]
    },
    {
     "name": "stderr",
     "output_type": "stream",
     "text": [
      "/Users/selenb/anaconda2/lib/python2.7/site-packages/bs4/__init__.py:219: UserWarning: \".\" looks like a filename, not markup. You should probably open this file and pass the filehandle into Beautiful Soup.\n",
      "  ' Beautiful Soup.' % markup)\n",
      "/Users/selenb/anaconda2/lib/python2.7/site-packages/bs4/__init__.py:282: UserWarning: \"http://www.happierabroad.com\"\" looks like a URL. Beautiful Soup is not an HTTP client. You should probably use an HTTP client like requests to get the document behind the URL, and feed that document to Beautiful Soup.\n",
      "  ' that document to Beautiful Soup.' % decoded_markup\n"
     ]
    },
    {
     "name": "stdout",
     "output_type": "stream",
     "text": [
      "Parsing sentences from unlabeled set\n"
     ]
    },
    {
     "ename": "NameError",
     "evalue": "name 'unlabeled_train' is not defined",
     "output_type": "error",
     "traceback": [
      "\u001b[0;31m---------------------------------------------------------------------------\u001b[0m",
      "\u001b[0;31mNameError\u001b[0m                                 Traceback (most recent call last)",
      "\u001b[0;32m<ipython-input-29-965d0b14042f>\u001b[0m in \u001b[0;36m<module>\u001b[0;34m()\u001b[0m\n\u001b[1;32m      6\u001b[0m \u001b[0;34m\u001b[0m\u001b[0m\n\u001b[1;32m      7\u001b[0m \u001b[0;32mprint\u001b[0m \u001b[0;34m\"Parsing sentences from unlabeled set\"\u001b[0m\u001b[0;34m\u001b[0m\u001b[0m\n\u001b[0;32m----> 8\u001b[0;31m \u001b[0;32mfor\u001b[0m \u001b[0mreview\u001b[0m \u001b[0;32min\u001b[0m \u001b[0munlabeled_train\u001b[0m\u001b[0;34m[\u001b[0m\u001b[0;34m\"review\"\u001b[0m\u001b[0;34m]\u001b[0m\u001b[0;34m:\u001b[0m\u001b[0;34m\u001b[0m\u001b[0m\n\u001b[0m\u001b[1;32m      9\u001b[0m     \u001b[0msentences\u001b[0m \u001b[0;34m+=\u001b[0m \u001b[0mreview_to_sentences\u001b[0m\u001b[0;34m(\u001b[0m\u001b[0mreview\u001b[0m\u001b[0;34m,\u001b[0m \u001b[0mtokenizer\u001b[0m\u001b[0;34m)\u001b[0m\u001b[0;34m\u001b[0m\u001b[0m\n",
      "\u001b[0;31mNameError\u001b[0m: name 'unlabeled_train' is not defined"
     ]
    }
   ],
   "source": [
    "sentences = []  # Initialize an empty list of sentences\n",
    "\n",
    "print \"Parsing sentences from training set\"\n",
    "for review in train[\"review\"]:\n",
    "    sentences += review_to_sentences(review, tokenizer)\n",
    "\n",
    "# print \"Parsing sentences from unlabeled set\"\n",
    "# for review in unlabeled_train[\"review\"]:\n",
    "#     sentences += review_to_sentences(review, tokenizer)"
   ]
  },
  {
   "cell_type": "code",
   "execution_count": 31,
   "metadata": {},
   "outputs": [
    {
     "name": "stdout",
     "output_type": "stream",
     "text": [
      "266551\n"
     ]
    }
   ],
   "source": [
    "print len(sentences)"
   ]
  },
  {
   "cell_type": "code",
   "execution_count": 33,
   "metadata": {},
   "outputs": [
    {
     "name": "stderr",
     "output_type": "stream",
     "text": [
      "2019-02-19 20:13:50,798 : INFO : 'pattern' package not found; tag filters are not available for English\n",
      "2019-02-19 20:13:50,810 : INFO : collecting all words and their counts\n",
      "2019-02-19 20:13:50,811 : INFO : PROGRESS: at sentence #0, processed 0 words, keeping 0 word types\n",
      "2019-02-19 20:13:50,893 : INFO : PROGRESS: at sentence #10000, processed 225803 words, keeping 17776 word types\n",
      "2019-02-19 20:13:50,981 : INFO : PROGRESS: at sentence #20000, processed 451892 words, keeping 24948 word types\n"
     ]
    },
    {
     "name": "stdout",
     "output_type": "stream",
     "text": [
      "Training model...\n"
     ]
    },
    {
     "name": "stderr",
     "output_type": "stream",
     "text": [
      "2019-02-19 20:13:51,096 : INFO : PROGRESS: at sentence #30000, processed 671315 words, keeping 30034 word types\n",
      "2019-02-19 20:13:51,181 : INFO : PROGRESS: at sentence #40000, processed 897815 words, keeping 34348 word types\n",
      "2019-02-19 20:13:51,264 : INFO : PROGRESS: at sentence #50000, processed 1116963 words, keeping 37761 word types\n",
      "2019-02-19 20:13:51,356 : INFO : PROGRESS: at sentence #60000, processed 1338404 words, keeping 40723 word types\n",
      "2019-02-19 20:13:51,474 : INFO : PROGRESS: at sentence #70000, processed 1561580 words, keeping 43333 word types\n",
      "2019-02-19 20:13:51,559 : INFO : PROGRESS: at sentence #80000, processed 1780887 words, keeping 45714 word types\n",
      "2019-02-19 20:13:51,645 : INFO : PROGRESS: at sentence #90000, processed 2004996 words, keeping 48135 word types\n",
      "2019-02-19 20:13:51,746 : INFO : PROGRESS: at sentence #100000, processed 2226966 words, keeping 50207 word types\n",
      "2019-02-19 20:13:51,848 : INFO : PROGRESS: at sentence #110000, processed 2446580 words, keeping 52081 word types\n",
      "2019-02-19 20:13:51,932 : INFO : PROGRESS: at sentence #120000, processed 2668775 words, keeping 54119 word types\n",
      "2019-02-19 20:13:52,053 : INFO : PROGRESS: at sentence #130000, processed 2894303 words, keeping 55847 word types\n",
      "2019-02-19 20:13:52,133 : INFO : PROGRESS: at sentence #140000, processed 3107005 words, keeping 57346 word types\n",
      "2019-02-19 20:13:52,221 : INFO : PROGRESS: at sentence #150000, processed 3332627 words, keeping 59055 word types\n",
      "2019-02-19 20:13:52,331 : INFO : PROGRESS: at sentence #160000, processed 3555315 words, keeping 60617 word types\n",
      "2019-02-19 20:13:52,445 : INFO : PROGRESS: at sentence #170000, processed 3778655 words, keeping 62077 word types\n",
      "2019-02-19 20:13:52,527 : INFO : PROGRESS: at sentence #180000, processed 3999236 words, keeping 63496 word types\n",
      "2019-02-19 20:13:52,613 : INFO : PROGRESS: at sentence #190000, processed 4224449 words, keeping 64794 word types\n",
      "2019-02-19 20:13:52,724 : INFO : PROGRESS: at sentence #200000, processed 4448603 words, keeping 66087 word types\n",
      "2019-02-19 20:13:52,816 : INFO : PROGRESS: at sentence #210000, processed 4669967 words, keeping 67390 word types\n",
      "2019-02-19 20:13:52,903 : INFO : PROGRESS: at sentence #220000, processed 4894968 words, keeping 68697 word types\n",
      "2019-02-19 20:13:52,990 : INFO : PROGRESS: at sentence #230000, processed 5117545 words, keeping 69958 word types\n",
      "2019-02-19 20:13:53,095 : INFO : PROGRESS: at sentence #240000, processed 5345050 words, keeping 71167 word types\n",
      "2019-02-19 20:13:53,197 : INFO : PROGRESS: at sentence #250000, processed 5559165 words, keeping 72351 word types\n",
      "2019-02-19 20:13:53,282 : INFO : PROGRESS: at sentence #260000, processed 5779146 words, keeping 73478 word types\n",
      "2019-02-19 20:13:53,342 : INFO : collected 74218 word types from a corpus of 5920724 raw words and 266551 sentences\n",
      "2019-02-19 20:13:53,344 : INFO : Loading a fresh vocabulary\n",
      "2019-02-19 20:13:53,446 : INFO : effective_min_count=40 retains 8306 unique words (11% of original 74218, drops 65912)\n",
      "2019-02-19 20:13:53,448 : INFO : effective_min_count=40 leaves 5559777 word corpus (93% of original 5920724, drops 360947)\n",
      "2019-02-19 20:13:53,494 : INFO : deleting the raw counts dictionary of 74218 items\n",
      "2019-02-19 20:13:53,498 : INFO : sample=0.001 downsamples 50 most-common words\n",
      "2019-02-19 20:13:53,500 : INFO : downsampling leaves estimated 4044393 word corpus (72.7% of prior 5559777)\n",
      "2019-02-19 20:13:53,534 : INFO : estimated required memory for 8306 words and 300 dimensions: 24087400 bytes\n",
      "2019-02-19 20:13:53,535 : INFO : resetting layer weights\n",
      "2019-02-19 20:13:53,727 : INFO : training model with 4 workers on 8306 vocabulary and 300 features, using sg=0 hs=0 sample=0.001 negative=5 window=10\n",
      "2019-02-19 20:13:54,739 : INFO : EPOCH 1 - PROGRESS: at 21.61% examples, 874838 words/s, in_qsize 8, out_qsize 0\n",
      "2019-02-19 20:13:55,743 : INFO : EPOCH 1 - PROGRESS: at 44.79% examples, 904003 words/s, in_qsize 8, out_qsize 0\n",
      "2019-02-19 20:13:56,747 : INFO : EPOCH 1 - PROGRESS: at 68.09% examples, 914935 words/s, in_qsize 7, out_qsize 0\n",
      "2019-02-19 20:13:57,753 : INFO : EPOCH 1 - PROGRESS: at 91.74% examples, 925669 words/s, in_qsize 8, out_qsize 0\n",
      "2019-02-19 20:13:58,106 : INFO : worker thread finished; awaiting finish of 3 more threads\n",
      "2019-02-19 20:13:58,108 : INFO : worker thread finished; awaiting finish of 2 more threads\n",
      "2019-02-19 20:13:58,114 : INFO : worker thread finished; awaiting finish of 1 more threads\n",
      "2019-02-19 20:13:58,121 : INFO : worker thread finished; awaiting finish of 0 more threads\n",
      "2019-02-19 20:13:58,123 : INFO : EPOCH - 1 : training on 5920724 raw words (4044655 effective words) took 4.4s, 921710 effective words/s\n",
      "2019-02-19 20:13:59,142 : INFO : EPOCH 2 - PROGRESS: at 22.32% examples, 899430 words/s, in_qsize 7, out_qsize 0\n",
      "2019-02-19 20:14:00,148 : INFO : EPOCH 2 - PROGRESS: at 46.95% examples, 944825 words/s, in_qsize 7, out_qsize 0\n",
      "2019-02-19 20:14:01,151 : INFO : EPOCH 2 - PROGRESS: at 69.94% examples, 938032 words/s, in_qsize 8, out_qsize 0\n",
      "2019-02-19 20:14:02,160 : INFO : EPOCH 2 - PROGRESS: at 87.80% examples, 884526 words/s, in_qsize 8, out_qsize 0\n",
      "2019-02-19 20:14:02,749 : INFO : worker thread finished; awaiting finish of 3 more threads\n",
      "2019-02-19 20:14:02,763 : INFO : worker thread finished; awaiting finish of 2 more threads\n",
      "2019-02-19 20:14:02,764 : INFO : worker thread finished; awaiting finish of 1 more threads\n",
      "2019-02-19 20:14:02,767 : INFO : worker thread finished; awaiting finish of 0 more threads\n",
      "2019-02-19 20:14:02,769 : INFO : EPOCH - 2 : training on 5920724 raw words (4043322 effective words) took 4.6s, 872568 effective words/s\n",
      "2019-02-19 20:14:03,777 : INFO : EPOCH 3 - PROGRESS: at 22.50% examples, 908961 words/s, in_qsize 8, out_qsize 0\n",
      "2019-02-19 20:14:04,785 : INFO : EPOCH 3 - PROGRESS: at 47.45% examples, 957494 words/s, in_qsize 7, out_qsize 1\n",
      "2019-02-19 20:14:05,781 : INFO : EPOCH 3 - PROGRESS: at 71.75% examples, 965706 words/s, in_qsize 7, out_qsize 0\n",
      "2019-02-19 20:14:06,783 : INFO : EPOCH 3 - PROGRESS: at 96.70% examples, 976024 words/s, in_qsize 7, out_qsize 0\n",
      "2019-02-19 20:14:06,894 : INFO : worker thread finished; awaiting finish of 3 more threads\n",
      "2019-02-19 20:14:06,901 : INFO : worker thread finished; awaiting finish of 2 more threads\n",
      "2019-02-19 20:14:06,907 : INFO : worker thread finished; awaiting finish of 1 more threads\n",
      "2019-02-19 20:14:06,912 : INFO : worker thread finished; awaiting finish of 0 more threads\n",
      "2019-02-19 20:14:06,914 : INFO : EPOCH - 3 : training on 5920724 raw words (4044253 effective words) took 4.1s, 976633 effective words/s\n",
      "2019-02-19 20:14:07,924 : INFO : EPOCH 4 - PROGRESS: at 24.04% examples, 970660 words/s, in_qsize 7, out_qsize 0\n",
      "2019-02-19 20:14:08,928 : INFO : EPOCH 4 - PROGRESS: at 48.46% examples, 978704 words/s, in_qsize 7, out_qsize 0\n",
      "2019-02-19 20:14:09,932 : INFO : EPOCH 4 - PROGRESS: at 70.74% examples, 951597 words/s, in_qsize 7, out_qsize 0\n",
      "2019-02-19 20:14:10,933 : INFO : EPOCH 4 - PROGRESS: at 93.12% examples, 939724 words/s, in_qsize 7, out_qsize 0\n",
      "2019-02-19 20:14:11,208 : INFO : worker thread finished; awaiting finish of 3 more threads\n",
      "2019-02-19 20:14:11,210 : INFO : worker thread finished; awaiting finish of 2 more threads\n",
      "2019-02-19 20:14:11,218 : INFO : worker thread finished; awaiting finish of 1 more threads\n",
      "2019-02-19 20:14:11,226 : INFO : worker thread finished; awaiting finish of 0 more threads\n",
      "2019-02-19 20:14:11,228 : INFO : EPOCH - 4 : training on 5920724 raw words (4044027 effective words) took 4.3s, 939051 effective words/s\n",
      "2019-02-19 20:14:12,237 : INFO : EPOCH 5 - PROGRESS: at 23.02% examples, 927531 words/s, in_qsize 7, out_qsize 0\n",
      "2019-02-19 20:14:13,242 : INFO : EPOCH 5 - PROGRESS: at 47.94% examples, 966759 words/s, in_qsize 8, out_qsize 0\n",
      "2019-02-19 20:14:14,242 : INFO : EPOCH 5 - PROGRESS: at 72.62% examples, 976305 words/s, in_qsize 7, out_qsize 0\n",
      "2019-02-19 20:14:15,250 : INFO : EPOCH 5 - PROGRESS: at 95.40% examples, 960427 words/s, in_qsize 8, out_qsize 0\n",
      "2019-02-19 20:14:15,408 : INFO : worker thread finished; awaiting finish of 3 more threads\n",
      "2019-02-19 20:14:15,411 : INFO : worker thread finished; awaiting finish of 2 more threads\n",
      "2019-02-19 20:14:15,416 : INFO : worker thread finished; awaiting finish of 1 more threads\n",
      "2019-02-19 20:14:15,421 : INFO : worker thread finished; awaiting finish of 0 more threads\n",
      "2019-02-19 20:14:15,422 : INFO : EPOCH - 5 : training on 5920724 raw words (4043398 effective words) took 4.2s, 964888 effective words/s\n",
      "2019-02-19 20:14:15,424 : INFO : training on a 29603620 raw words (20219655 effective words) took 21.7s, 932010 effective words/s\n",
      "2019-02-19 20:14:15,425 : INFO : precomputing L2-norms of word weight vectors\n",
      "2019-02-19 20:14:15,435 : INFO : saving Word2Vec object under 300features_40minwords_10context, separately None\n",
      "2019-02-19 20:14:15,437 : INFO : not storing attribute vectors_norm\n",
      "2019-02-19 20:14:15,439 : INFO : not storing attribute cum_table\n",
      "2019-02-19 20:14:15,544 : INFO : saved 300features_40minwords_10context\n"
     ]
    }
   ],
   "source": [
    "# Import the built-in logging module and configure it so that Word2Vec \n",
    "# creates nice output messages\n",
    "import logging\n",
    "logging.basicConfig(format='%(asctime)s : %(levelname)s : %(message)s',level=logging.INFO)\n",
    "\n",
    "# Set values for various parameters\n",
    "num_features = 300    # Word vector dimensionality                      \n",
    "min_word_count = 40   # Minimum word count                        \n",
    "num_workers = 4       # Number of threads to run in parallel\n",
    "context = 10          # Context window size                                                                                    \n",
    "downsampling = 1e-3   # Downsample setting for frequent words\n",
    "\n",
    "# Initialize and train the model (this will take some time)\n",
    "from gensim.models import word2vec\n",
    "print \"Training model...\"\n",
    "model = word2vec.Word2Vec(sentences, workers=num_workers, \\\n",
    "            size=num_features, min_count = min_word_count, \\\n",
    "            window = context, sample = downsampling)\n",
    "\n",
    "# If you don't plan to train the model any further, calling \n",
    "# init_sims will make the model much more memory-efficient.\n",
    "model.init_sims(replace=True)\n",
    "\n",
    "# It can be helpful to create a meaningful model name and \n",
    "# save the model for later use. You can load it later using Word2Vec.load()\n",
    "model_name = \"300features_40minwords_10context\"\n",
    "model.save(model_name)"
   ]
  },
  {
   "cell_type": "code",
   "execution_count": 34,
   "metadata": {},
   "outputs": [
    {
     "name": "stderr",
     "output_type": "stream",
     "text": [
      "/Users/selenb/anaconda2/lib/python2.7/site-packages/ipykernel_launcher.py:1: DeprecationWarning: Call to deprecated `doesnt_match` (Method will be removed in 4.0.0, use self.wv.doesnt_match() instead).\n",
      "  \"\"\"Entry point for launching an IPython kernel.\n"
     ]
    },
    {
     "data": {
      "text/plain": [
       "'kitchen'"
      ]
     },
     "execution_count": 34,
     "metadata": {},
     "output_type": "execute_result"
    }
   ],
   "source": [
    "model.doesnt_match(\"man woman child kitchen\".split())"
   ]
  },
  {
   "cell_type": "code",
   "execution_count": 35,
   "metadata": {},
   "outputs": [
    {
     "name": "stderr",
     "output_type": "stream",
     "text": [
      "/Users/selenb/anaconda2/lib/python2.7/site-packages/ipykernel_launcher.py:1: DeprecationWarning: Call to deprecated `most_similar` (Method will be removed in 4.0.0, use self.wv.most_similar() instead).\n",
      "  \"\"\"Entry point for launching an IPython kernel.\n"
     ]
    },
    {
     "data": {
      "text/plain": [
       "[(u'woman', 0.6567870378494263),\n",
       " (u'soldier', 0.6391888856887817),\n",
       " (u'boy', 0.6235976815223694),\n",
       " (u'doctor', 0.6222869157791138),\n",
       " (u'scientist', 0.5752479434013367),\n",
       " (u'lady', 0.5748927593231201),\n",
       " (u'cop', 0.5698310136795044),\n",
       " (u'guy', 0.5650266408920288),\n",
       " (u'person', 0.561811625957489),\n",
       " (u'monk', 0.5316123366355896)]"
      ]
     },
     "execution_count": 35,
     "metadata": {},
     "output_type": "execute_result"
    }
   ],
   "source": [
    "#model.most_similar(\"man\")"
   ]
  },
  {
   "cell_type": "code",
   "execution_count": 49,
   "metadata": {},
   "outputs": [],
   "source": [
    "import numpy as np  # Make sure that numpy is imported\n",
    "\n",
    "def makeFeatureVec(words, model, num_features):\n",
    "    # Function to average all of the word vectors in a given\n",
    "    # paragraph\n",
    "    #\n",
    "    # Pre-initialize an empty numpy array (for speed)\n",
    "    featureVec = np.zeros((num_features,),dtype=\"float32\")\n",
    "    #\n",
    "    nwords = 0.\n",
    "    # \n",
    "    # Index2word is a list that contains the names of the words in \n",
    "    # the model's vocabulary. Convert it to a set, for speed \n",
    "    index2word_set = set(model.wv.index2word)\n",
    "    #\n",
    "    # Loop over each word in the review and, if it is in the model's\n",
    "    # vocaublary, add its feature vector to the total\n",
    "    for word in words:\n",
    "        if word in index2word_set: \n",
    "            nwords = nwords + 1.\n",
    "            featureVec = np.add(featureVec,model[word])\n",
    "    # \n",
    "    # Divide the result by the number of words to get the average\n",
    "    featureVec = np.divide(featureVec,nwords)\n",
    "    return featureVec\n",
    "\n",
    "\n",
    "def getAvgFeatureVecs(reviews, model, num_features):\n",
    "    # Given a set of reviews (each one a list of words), calculate \n",
    "    # the average feature vector for each one and return a 2D numpy array \n",
    "    # \n",
    "    # Initialize a counter\n",
    "    counter = 0\n",
    "    # \n",
    "    # Preallocate a 2D numpy array, for speed\n",
    "    reviewFeatureVecs = np.zeros((len(reviews),num_features),dtype=\"float32\")\n",
    "    # \n",
    "    # Loop through the reviews\n",
    "    for review in reviews:\n",
    "       #\n",
    "       # Print a status message every 1000th review\n",
    "        if counter%1000 == 0:\n",
    "            print \"Review %d of %d\" % (counter, len(reviews))\n",
    "       # \n",
    "       # Call the function (defined above) that makes average feature vectors\n",
    "        reviewFeatureVecs[counter] = makeFeatureVec(review, model, num_features)\n",
    "       #\n",
    "       # Increment the counter\n",
    "        counter = counter + 1\n",
    "    return reviewFeatureVecs"
   ]
  },
  {
   "cell_type": "code",
   "execution_count": 50,
   "metadata": {},
   "outputs": [
    {
     "name": "stdout",
     "output_type": "stream",
     "text": [
      "Review 0 of 25000\n"
     ]
    },
    {
     "name": "stderr",
     "output_type": "stream",
     "text": [
      "/Users/selenb/anaconda2/lib/python2.7/site-packages/ipykernel_launcher.py:21: DeprecationWarning: Call to deprecated `__getitem__` (Method will be removed in 4.0.0, use self.wv.__getitem__() instead).\n"
     ]
    },
    {
     "name": "stdout",
     "output_type": "stream",
     "text": [
      "Review 1000 of 25000\n",
      "Review 2000 of 25000\n",
      "Review 3000 of 25000\n",
      "Review 4000 of 25000\n",
      "Review 5000 of 25000\n",
      "Review 6000 of 25000\n",
      "Review 7000 of 25000\n",
      "Review 8000 of 25000\n",
      "Review 9000 of 25000\n",
      "Review 10000 of 25000\n",
      "Review 11000 of 25000\n",
      "Review 12000 of 25000\n",
      "Review 13000 of 25000\n",
      "Review 14000 of 25000\n",
      "Review 15000 of 25000\n",
      "Review 16000 of 25000\n",
      "Review 17000 of 25000\n",
      "Review 18000 of 25000\n",
      "Review 19000 of 25000\n",
      "Review 20000 of 25000\n",
      "Review 21000 of 25000\n",
      "Review 22000 of 25000\n",
      "Review 23000 of 25000\n",
      "Review 24000 of 25000\n",
      "Creating average feature vecs for test reviews\n",
      "Review 0 of 25000\n",
      "Review 1000 of 25000\n",
      "Review 2000 of 25000\n",
      "Review 3000 of 25000\n",
      "Review 4000 of 25000\n",
      "Review 5000 of 25000\n",
      "Review 6000 of 25000\n",
      "Review 7000 of 25000\n",
      "Review 8000 of 25000\n",
      "Review 9000 of 25000\n",
      "Review 10000 of 25000\n",
      "Review 11000 of 25000\n",
      "Review 12000 of 25000\n",
      "Review 13000 of 25000\n",
      "Review 14000 of 25000\n",
      "Review 15000 of 25000\n",
      "Review 16000 of 25000\n",
      "Review 17000 of 25000\n",
      "Review 18000 of 25000\n",
      "Review 19000 of 25000\n",
      "Review 20000 of 25000\n",
      "Review 21000 of 25000\n",
      "Review 22000 of 25000\n",
      "Review 23000 of 25000\n",
      "Review 24000 of 25000\n"
     ]
    }
   ],
   "source": [
    "# ****************************************************************\n",
    "# Calculate average feature vectors for training and testing sets,\n",
    "# using the functions we defined above. Notice that we now use stop word\n",
    "# removal.\n",
    "\n",
    "clean_train_reviews = []\n",
    "for review in train[\"review\"]:\n",
    "    clean_train_reviews.append( review_to_wordlist( review, \\\n",
    "        remove_stopwords=True ))\n",
    "\n",
    "trainDataVecs = getAvgFeatureVecs( clean_train_reviews, model, num_features )\n",
    "\n",
    "print \"Creating average feature vecs for test reviews\"\n",
    "clean_test_reviews = []\n",
    "for review in test[\"review\"]:\n",
    "    clean_test_reviews.append( review_to_wordlist( review, \\\n",
    "        remove_stopwords=True ))\n",
    "\n",
    "testDataVecs = getAvgFeatureVecs( clean_test_reviews, model, num_features )"
   ]
  },
  {
   "cell_type": "code",
   "execution_count": null,
   "metadata": {},
   "outputs": [],
   "source": [
    "from sklearn.svm import SVC # \"Support vector classifier\"\n",
    "svm_model = SVC(kernel='linear', C=1E10)\n",
    "svm_model.fit(trainDataVecs, train[\"sentiment\"])"
   ]
  },
  {
   "cell_type": "code",
   "execution_count": null,
   "metadata": {},
   "outputs": [],
   "source": [
    "# Test & extract results \n",
    "result = svm_model.predict( testDataVecs )"
   ]
  }
 ],
 "metadata": {
  "kernelspec": {
   "display_name": "Python 2",
   "language": "python",
   "name": "python2"
  },
  "language_info": {
   "codemirror_mode": {
    "name": "ipython",
    "version": 2
   },
   "file_extension": ".py",
   "mimetype": "text/x-python",
   "name": "python",
   "nbconvert_exporter": "python",
   "pygments_lexer": "ipython2",
   "version": "2.7.15"
  }
 },
 "nbformat": 4,
 "nbformat_minor": 2
}
